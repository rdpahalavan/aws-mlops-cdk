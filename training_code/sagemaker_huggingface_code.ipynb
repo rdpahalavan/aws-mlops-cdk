{
  "cells": [
    {
      "cell_type": "code",
      "execution_count": null,
      "id": "fa1deb19-2949-4f08-b2ff-9b8ac84ccbd1",
      "metadata": {
        "tags": [],
        "id": "fa1deb19-2949-4f08-b2ff-9b8ac84ccbd1"
      },
      "outputs": [],
      "source": [
        "!pip install sagemaker --upgrade"
      ]
    },
    {
      "cell_type": "code",
      "execution_count": null,
      "id": "4d24a0c8-9a0d-41ca-9e06-e363008813c7",
      "metadata": {
        "tags": [],
        "id": "4d24a0c8-9a0d-41ca-9e06-e363008813c7"
      },
      "outputs": [],
      "source": [
        "!pip install transformers \"datasets[s3]\" accelerate --upgrade"
      ]
    },
    {
      "cell_type": "code",
      "execution_count": null,
      "id": "4c801208-741a-4d73-90aa-3c82ec75301c",
      "metadata": {
        "tags": [],
        "id": "4c801208-741a-4d73-90aa-3c82ec75301c"
      },
      "outputs": [],
      "source": [
        "import sagemaker\n",
        "sess = sagemaker.Session()\n",
        "role = sagemaker.get_execution_role()"
      ]
    },
    {
      "cell_type": "code",
      "execution_count": null,
      "id": "2e2112bf-9670-4848-b870-2edf98a5ad5c",
      "metadata": {
        "tags": [],
        "id": "2e2112bf-9670-4848-b870-2edf98a5ad5c",
        "outputId": "e6c84e4e-dc19-44af-fc18-7f8eb1114c3a"
      },
      "outputs": [
        {
          "data": {
            "text/plain": [
              "<sagemaker.session.Session at 0x7fb7084d69a0>"
            ]
          },
          "execution_count": 5,
          "metadata": {},
          "output_type": "execute_result"
        }
      ],
      "source": [
        "sess"
      ]
    },
    {
      "cell_type": "code",
      "execution_count": null,
      "id": "80c45253-0f4a-40d1-bf15-d4c8fa359c32",
      "metadata": {
        "tags": [],
        "id": "80c45253-0f4a-40d1-bf15-d4c8fa359c32",
        "outputId": "824ee177-de20-4e73-c604-593a6a20a709"
      },
      "outputs": [
        {
          "data": {
            "text/plain": [
              "'arn:aws:iam::648057559257:role/service-role/AmazonSageMaker-ExecutionRole-20230507T193773'"
            ]
          },
          "execution_count": 6,
          "metadata": {},
          "output_type": "execute_result"
        }
      ],
      "source": [
        "role"
      ]
    },
    {
      "cell_type": "code",
      "execution_count": null,
      "id": "28b5bf19-c9dd-4c0c-8628-36ca3735e44a",
      "metadata": {
        "tags": [],
        "id": "28b5bf19-c9dd-4c0c-8628-36ca3735e44a"
      },
      "outputs": [],
      "source": [
        "sess = sagemaker.Session(default_bucket='mlops-cdk-project-1', default_bucket_prefix='MLOps-Project')"
      ]
    },
    {
      "cell_type": "code",
      "execution_count": null,
      "id": "76cc9514-6406-464b-85b1-30a9817e9b24",
      "metadata": {
        "tags": [],
        "id": "76cc9514-6406-464b-85b1-30a9817e9b24"
      },
      "outputs": [],
      "source": [
        "import time\n",
        "import pandas as pd\n",
        "from datasets import load_dataset, Dataset"
      ]
    },
    {
      "cell_type": "code",
      "execution_count": null,
      "id": "78ccf569-1bda-4bb5-b44b-a6cf18e451fd",
      "metadata": {
        "tags": [],
        "id": "78ccf569-1bda-4bb5-b44b-a6cf18e451fd"
      },
      "outputs": [],
      "source": [
        "dataset = load_dataset(\"rdpahalavan/network-packet-flow-header-payload\")"
      ]
    },
    {
      "cell_type": "code",
      "execution_count": null,
      "id": "6375f95e-2845-4289-8251-abe11be3db3b",
      "metadata": {
        "tags": [],
        "id": "6375f95e-2845-4289-8251-abe11be3db3b"
      },
      "outputs": [],
      "source": [
        "df = pd.DataFrame(dataset['train'])"
      ]
    },
    {
      "cell_type": "code",
      "execution_count": null,
      "id": "9482bfd4-c44e-4673-acad-36be6c0fd519",
      "metadata": {
        "tags": [],
        "id": "9482bfd4-c44e-4673-acad-36be6c0fd519",
        "outputId": "c466b989-7503-4c73-aee4-899d0de55909"
      },
      "outputs": [
        {
          "data": {
            "text/html": [
              "<div>\n",
              "<style scoped>\n",
              "    .dataframe tbody tr th:only-of-type {\n",
              "        vertical-align: middle;\n",
              "    }\n",
              "\n",
              "    .dataframe tbody tr th {\n",
              "        vertical-align: top;\n",
              "    }\n",
              "\n",
              "    .dataframe thead th {\n",
              "        text-align: right;\n",
              "    }\n",
              "</style>\n",
              "<table border=\"1\" class=\"dataframe\">\n",
              "  <thead>\n",
              "    <tr style=\"text-align: right;\">\n",
              "      <th></th>\n",
              "      <th>packet_dat</th>\n",
              "      <th>attack_cat</th>\n",
              "    </tr>\n",
              "  </thead>\n",
              "  <tbody>\n",
              "    <tr>\n",
              "      <th>0</th>\n",
              "      <td>0 0 141 -1 80 63713 2960 2920 64 0 5 0 -1 119 ...</td>\n",
              "      <td>DDoS</td>\n",
              "    </tr>\n",
              "    <tr>\n",
              "      <th>1</th>\n",
              "      <td>1190 1582 3526815 -1 80 50095 1500 1460 118 0 ...</td>\n",
              "      <td>Normal</td>\n",
              "    </tr>\n",
              "    <tr>\n",
              "      <th>2</th>\n",
              "      <td>0 0 4 -1 80 41471 4420 4380 64 0 5 0 -1 72 84 ...</td>\n",
              "      <td>DDoS</td>\n",
              "    </tr>\n",
              "    <tr>\n",
              "      <th>3</th>\n",
              "      <td>0 0 176 -1 80 45284 2948 2896 64 0 8 0 -1 72 8...</td>\n",
              "      <td>DoS Hulk</td>\n",
              "    </tr>\n",
              "    <tr>\n",
              "      <th>4</th>\n",
              "      <td>0 0 128 -1 80 46654 1500 1448 64 0 8 0 -1 72 8...</td>\n",
              "      <td>DoS Hulk</td>\n",
              "    </tr>\n",
              "    <tr>\n",
              "      <th>...</th>\n",
              "      <td>...</td>\n",
              "      <td>...</td>\n",
              "    </tr>\n",
              "    <tr>\n",
              "      <th>1187776</th>\n",
              "      <td>14492 14492 0 -1 51328 22 164 112 62 0 8 3 -1 ...</td>\n",
              "      <td>SSH Patator</td>\n",
              "    </tr>\n",
              "    <tr>\n",
              "      <th>1187777</th>\n",
              "      <td>14 98 131788 -1 80 52067 1500 1460 253 0 5 0 -...</td>\n",
              "      <td>DoS</td>\n",
              "    </tr>\n",
              "    <tr>\n",
              "      <th>1187778</th>\n",
              "      <td>1 2 397 -1 47188 22 692 640 62 0 8 3 -1 0 0 2 ...</td>\n",
              "      <td>SSH Patator</td>\n",
              "    </tr>\n",
              "    <tr>\n",
              "      <th>1187779</th>\n",
              "      <td>2063 0 0 -1 80 32768 1500 1448 64 0 8 0 -1 32 ...</td>\n",
              "      <td>DoS Hulk</td>\n",
              "    </tr>\n",
              "    <tr>\n",
              "      <th>1187780</th>\n",
              "      <td>1 1 34 -1 56628 21 78 26 62 0 8 3 -1 80 65 83 ...</td>\n",
              "      <td>FTP Patator</td>\n",
              "    </tr>\n",
              "  </tbody>\n",
              "</table>\n",
              "<p>1187781 rows × 2 columns</p>\n",
              "</div>"
            ],
            "text/plain": [
              "                                                packet_dat   attack_cat\n",
              "0        0 0 141 -1 80 63713 2960 2920 64 0 5 0 -1 119 ...         DDoS\n",
              "1        1190 1582 3526815 -1 80 50095 1500 1460 118 0 ...       Normal\n",
              "2        0 0 4 -1 80 41471 4420 4380 64 0 5 0 -1 72 84 ...         DDoS\n",
              "3        0 0 176 -1 80 45284 2948 2896 64 0 8 0 -1 72 8...     DoS Hulk\n",
              "4        0 0 128 -1 80 46654 1500 1448 64 0 8 0 -1 72 8...     DoS Hulk\n",
              "...                                                    ...          ...\n",
              "1187776  14492 14492 0 -1 51328 22 164 112 62 0 8 3 -1 ...  SSH Patator\n",
              "1187777  14 98 131788 -1 80 52067 1500 1460 253 0 5 0 -...          DoS\n",
              "1187778  1 2 397 -1 47188 22 692 640 62 0 8 3 -1 0 0 2 ...  SSH Patator\n",
              "1187779  2063 0 0 -1 80 32768 1500 1448 64 0 8 0 -1 32 ...     DoS Hulk\n",
              "1187780  1 1 34 -1 56628 21 78 26 62 0 8 3 -1 80 65 83 ...  FTP Patator\n",
              "\n",
              "[1187781 rows x 2 columns]"
            ]
          },
          "execution_count": 15,
          "metadata": {},
          "output_type": "execute_result"
        }
      ],
      "source": [
        "df"
      ]
    },
    {
      "cell_type": "code",
      "execution_count": null,
      "id": "094e7bd2-b18b-4d50-9920-6551884f1440",
      "metadata": {
        "tags": [],
        "id": "094e7bd2-b18b-4d50-9920-6551884f1440"
      },
      "outputs": [],
      "source": [
        "train_df.to_csv('train.csv', index=False)"
      ]
    },
    {
      "cell_type": "code",
      "execution_count": null,
      "id": "69caa8ff-4a6f-494b-82b6-b56266be14c5",
      "metadata": {
        "tags": [],
        "id": "69caa8ff-4a6f-494b-82b6-b56266be14c5"
      },
      "outputs": [],
      "source": [
        "test_df.to_csv('test.csv', index=False)"
      ]
    },
    {
      "cell_type": "code",
      "execution_count": null,
      "id": "f7d1995e-4235-4e3c-ac56-1e235518949b",
      "metadata": {
        "tags": [],
        "id": "f7d1995e-4235-4e3c-ac56-1e235518949b"
      },
      "outputs": [],
      "source": [
        "train_df = pd.read_csv('train.csv')"
      ]
    },
    {
      "cell_type": "code",
      "execution_count": null,
      "id": "5456b7ae-cb7d-401e-b9dd-3b480c423243",
      "metadata": {
        "tags": [],
        "id": "5456b7ae-cb7d-401e-b9dd-3b480c423243"
      },
      "outputs": [],
      "source": [
        "test_df = pd.read_csv('test.csv')"
      ]
    },
    {
      "cell_type": "code",
      "execution_count": null,
      "id": "3e7f05b3-d8fb-49f7-9bb6-fbbd8b89d3ed",
      "metadata": {
        "tags": [],
        "id": "3e7f05b3-d8fb-49f7-9bb6-fbbd8b89d3ed"
      },
      "outputs": [],
      "source": [
        "classes = train_df['attack_cat'].unique()\n",
        "\n",
        "target_map = {class_name: index for index, class_name in enumerate(sorted(classes))}"
      ]
    },
    {
      "cell_type": "code",
      "execution_count": null,
      "id": "56d8d272-b889-4f5b-97b6-40c7ef518f28",
      "metadata": {
        "tags": [],
        "id": "56d8d272-b889-4f5b-97b6-40c7ef518f28",
        "outputId": "8948952e-df26-4b04-9be0-339d2cdfe3c6"
      },
      "outputs": [
        {
          "data": {
            "text/plain": [
              "{'Analysis': 0,\n",
              " 'Backdoor': 1,\n",
              " 'Bot': 2,\n",
              " 'DDoS': 3,\n",
              " 'DoS': 4,\n",
              " 'DoS GoldenEye': 5,\n",
              " 'DoS Hulk': 6,\n",
              " 'DoS SlowHTTPTest': 7,\n",
              " 'DoS Slowloris': 8,\n",
              " 'Exploits': 9,\n",
              " 'FTP Patator': 10,\n",
              " 'Fuzzers': 11,\n",
              " 'Generic': 12,\n",
              " 'Heartbleed': 13,\n",
              " 'Infiltration': 14,\n",
              " 'Normal': 15,\n",
              " 'Port Scan': 16,\n",
              " 'Reconnaissance': 17,\n",
              " 'SSH Patator': 18,\n",
              " 'Shellcode': 19,\n",
              " 'Web Attack - Brute Force': 20,\n",
              " 'Web Attack - SQL Injection': 21,\n",
              " 'Web Attack - XSS': 22,\n",
              " 'Worms': 23}"
            ]
          },
          "execution_count": 27,
          "metadata": {},
          "output_type": "execute_result"
        }
      ],
      "source": [
        "target_map"
      ]
    },
    {
      "cell_type": "code",
      "execution_count": null,
      "id": "6169024c-4622-4282-a684-af949642c1c0",
      "metadata": {
        "tags": [],
        "id": "6169024c-4622-4282-a684-af949642c1c0"
      },
      "outputs": [],
      "source": [
        "train_df['target'] = train_df['attack_cat'].map(target_map)"
      ]
    },
    {
      "cell_type": "code",
      "execution_count": null,
      "id": "4af6cfff-bcdf-4cf0-8b29-3ad0ba8346e0",
      "metadata": {
        "tags": [],
        "id": "4af6cfff-bcdf-4cf0-8b29-3ad0ba8346e0"
      },
      "outputs": [],
      "source": [
        "train_df = test_df[['packet_dat', 'target']]"
      ]
    },
    {
      "cell_type": "code",
      "execution_count": null,
      "id": "2867a54b-c3f4-4d40-af0f-50d82d14e1b4",
      "metadata": {
        "tags": [],
        "id": "2867a54b-c3f4-4d40-af0f-50d82d14e1b4"
      },
      "outputs": [],
      "source": [
        "train_df.columns = ['packet', 'label']"
      ]
    },
    {
      "cell_type": "code",
      "execution_count": null,
      "id": "e11e79e7-6932-40a3-99c5-3becda3148be",
      "metadata": {
        "tags": [],
        "id": "e11e79e7-6932-40a3-99c5-3becda3148be"
      },
      "outputs": [],
      "source": [
        "raw_dataset = Dataset.from_pandas(train_df)"
      ]
    },
    {
      "cell_type": "code",
      "execution_count": null,
      "id": "a44b4d22-acd4-4edf-ba80-027441f9130a",
      "metadata": {
        "tags": [],
        "id": "a44b4d22-acd4-4edf-ba80-027441f9130a"
      },
      "outputs": [],
      "source": [
        "from transformers import AutoConfig, AutoTokenizer, AutoModel"
      ]
    },
    {
      "cell_type": "code",
      "execution_count": null,
      "id": "ae5264f3-5685-4469-a17e-24e41361546b",
      "metadata": {
        "tags": [],
        "id": "ae5264f3-5685-4469-a17e-24e41361546b"
      },
      "outputs": [],
      "source": [
        "checkpoint = 'distilbert-base-cased'"
      ]
    },
    {
      "cell_type": "code",
      "execution_count": null,
      "id": "af00148d-8a89-4e6e-b604-6ce1bf2eec2f",
      "metadata": {
        "tags": [],
        "id": "af00148d-8a89-4e6e-b604-6ce1bf2eec2f"
      },
      "outputs": [],
      "source": [
        "tokenizer = AutoTokenizer.from_pretrained(checkpoint)"
      ]
    },
    {
      "cell_type": "code",
      "execution_count": null,
      "id": "70c9640c-7db5-4bc5-8f2a-9191f5859724",
      "metadata": {
        "tags": [],
        "id": "70c9640c-7db5-4bc5-8f2a-9191f5859724"
      },
      "outputs": [],
      "source": [
        "def tokenize_batch(batch):\n",
        "  return tokenizer(batch['packet'], truncation=True)"
      ]
    },
    {
      "cell_type": "code",
      "execution_count": null,
      "id": "d5d9f145-073b-49fb-acf5-b927982155cf",
      "metadata": {
        "tags": [],
        "id": "d5d9f145-073b-49fb-acf5-b927982155cf"
      },
      "outputs": [],
      "source": [
        "tokenized_datasets = raw_dataset.map(function=tokenize_batch, batched=True)"
      ]
    },
    {
      "cell_type": "code",
      "execution_count": null,
      "id": "7b7c438b-0d51-4abf-ba3a-6d83ee442121",
      "metadata": {
        "tags": [],
        "id": "7b7c438b-0d51-4abf-ba3a-6d83ee442121"
      },
      "outputs": [],
      "source": [
        "dataset_train_tokenized = tokenized_datasets.rename_column(\"label\", \"labels\")\n",
        "dataset_train_tokenized.set_format('torch', columns=['input_ids', 'attention_mask', 'labels'])"
      ]
    },
    {
      "cell_type": "code",
      "execution_count": null,
      "id": "da080215-4908-4ad8-a6db-5d417a51b3ee",
      "metadata": {
        "tags": [],
        "id": "da080215-4908-4ad8-a6db-5d417a51b3ee"
      },
      "outputs": [],
      "source": [
        "dataset_val_tokenized = tokenized_datasets.rename_column(\"label\", \"labels\")\n",
        "dataset_val_tokenized.set_format('torch', columns=['input_ids', 'attention_mask', 'labels'])"
      ]
    },
    {
      "cell_type": "code",
      "execution_count": null,
      "id": "a722ec50-796d-4652-9c54-121dc155c9a3",
      "metadata": {
        "tags": [],
        "id": "a722ec50-796d-4652-9c54-121dc155c9a3"
      },
      "outputs": [],
      "source": [
        "from datasets.filesystems import S3FileSystem"
      ]
    },
    {
      "cell_type": "code",
      "execution_count": null,
      "id": "444a112b-d6f5-46f3-a716-3103b0701baf",
      "metadata": {
        "tags": [],
        "id": "444a112b-d6f5-46f3-a716-3103b0701baf"
      },
      "outputs": [],
      "source": [
        "s3 = S3FileSystem()\n",
        "\n",
        "training_input_path = f's3://{sess.default_bucket()}/MLOps-Project/Dataset/train'\n",
        "\n",
        "val_input_path = f's3://{sess.default_bucket()}/MLOps-Project/Dataset/val'"
      ]
    },
    {
      "cell_type": "code",
      "execution_count": null,
      "id": "ec606a58-3f40-4986-b3e9-4f0933dcb4a7",
      "metadata": {
        "tags": [],
        "id": "ec606a58-3f40-4986-b3e9-4f0933dcb4a7"
      },
      "outputs": [],
      "source": [
        "from sagemaker.huggingface import HuggingFace"
      ]
    },
    {
      "cell_type": "code",
      "execution_count": null,
      "id": "5d340dfb-c2de-4832-aba5-82e62ecf5c0c",
      "metadata": {
        "tags": [],
        "id": "5d340dfb-c2de-4832-aba5-82e62ecf5c0c"
      },
      "outputs": [],
      "source": [
        "huggingface_estimator = HuggingFace(\n",
        "                            entry_point='train.py',\n",
        "                            output_path=f's3://{sess.default_bucket()}',\n",
        "                            base_job_name='huggingface-sdk-extension',\n",
        "                            instance_type='ml.p3.2xlarge',\n",
        "                            instance_count=1,\n",
        "                            transformers_version='4.26.0',\n",
        "                            pytorch_version='1.13.1',\n",
        "                            py_version='py39',\n",
        "                            role=role\n",
        "                        )"
      ]
    },
    {
      "cell_type": "code",
      "execution_count": null,
      "id": "7025b5a9-63eb-4a21-acfa-c24111144f0f",
      "metadata": {
        "tags": [],
        "id": "7025b5a9-63eb-4a21-acfa-c24111144f0f"
      },
      "outputs": [],
      "source": [
        "huggingface_estimator.fit({'train': training_input_path, 'test': val_input_path},\n",
        "                          wait=True,\n",
        "                          job_name='MLOps-Project-{}'.format(int(time.time())))"
      ]
    },
    {
      "cell_type": "code",
      "execution_count": null,
      "id": "28fb6808-7e2f-41d2-8360-b14a4f313357",
      "metadata": {
        "tags": [],
        "id": "28fb6808-7e2f-41d2-8360-b14a4f313357"
      },
      "outputs": [],
      "source": [
        "predictor = huggingface_estimator.deploy(initial_instance_count=1,\n",
        "                                         instance_type=\"ml.g4dn.xlarge\",\n",
        "                                         endpoint_name=\"MLOps-Project-Endpoint-{}\".format(int(time.time())))"
      ]
    },
    {
      "cell_type": "code",
      "execution_count": null,
      "id": "d95488c7-ca07-406d-83a0-266ba69f2e0f",
      "metadata": {
        "tags": [],
        "id": "d95488c7-ca07-406d-83a0-266ba69f2e0f",
        "outputId": "dd190f0f-19f2-4f25-e610-f4b03ef90808"
      },
      "outputs": [
        {
          "data": {
            "text/plain": [
              "[{'label': 'Worms', 'score': 0.6542378067970276}]"
            ]
          },
          "execution_count": 70,
          "metadata": {},
          "output_type": "execute_result"
        }
      ],
      "source": [
        "predictor.predict({\"inputs\": train_df.iloc[1178]['packet'][:512]})"
      ]
    },
    {
      "cell_type": "code",
      "execution_count": null,
      "id": "35384eaa-9076-4e5f-86fd-bf48c3048cd7",
      "metadata": {
        "tags": [],
        "id": "35384eaa-9076-4e5f-86fd-bf48c3048cd7"
      },
      "outputs": [],
      "source": [
        "import boto3\n",
        "import json"
      ]
    },
    {
      "cell_type": "code",
      "execution_count": null,
      "id": "34c5626c-c0af-4f3a-a3b8-3100ac38c236",
      "metadata": {
        "tags": [],
        "id": "34c5626c-c0af-4f3a-a3b8-3100ac38c236"
      },
      "outputs": [],
      "source": [
        "sagemaker_runtime = boto3.client('sagemaker-runtime')\n",
        "\n",
        "endpoint_name = \"MLOps-Project-Endpoint-1697308604\"\n",
        "\n",
        "input_data = {\"inputs\": train_df.iloc[1178]['packet_dat'][:512]}\n",
        "\n",
        "input_json = json.dumps(input_data)\n",
        "\n",
        "response = sagemaker_runtime.invoke_endpoint(\n",
        "    EndpointName=endpoint_name,\n",
        "    Body=input_json,\n",
        "    ContentType='application/json'  # Specify the content type of your input data\n",
        ")\n",
        "\n",
        "prediction = response['Body'].read().decode()"
      ]
    },
    {
      "cell_type": "code",
      "execution_count": null,
      "id": "3538f104-99ce-4534-a8c5-c36015a55c34",
      "metadata": {
        "tags": [],
        "id": "3538f104-99ce-4534-a8c5-c36015a55c34",
        "outputId": "d6e5d460-bf33-48c9-8b21-79de4fe436c9"
      },
      "outputs": [
        {
          "data": {
            "text/plain": [
              "'[{\"label\":\"Fuzzers\",\"score\":0.7525674104690552}]'"
            ]
          },
          "execution_count": 15,
          "metadata": {},
          "output_type": "execute_result"
        }
      ],
      "source": [
        "prediction"
      ]
    }
  ],
  "metadata": {
    "availableInstances": [
      {
        "_defaultOrder": 0,
        "_isFastLaunch": true,
        "category": "General purpose",
        "gpuNum": 0,
        "hideHardwareSpecs": false,
        "memoryGiB": 4,
        "name": "ml.t3.medium",
        "vcpuNum": 2
      },
      {
        "_defaultOrder": 1,
        "_isFastLaunch": false,
        "category": "General purpose",
        "gpuNum": 0,
        "hideHardwareSpecs": false,
        "memoryGiB": 8,
        "name": "ml.t3.large",
        "vcpuNum": 2
      },
      {
        "_defaultOrder": 2,
        "_isFastLaunch": false,
        "category": "General purpose",
        "gpuNum": 0,
        "hideHardwareSpecs": false,
        "memoryGiB": 16,
        "name": "ml.t3.xlarge",
        "vcpuNum": 4
      },
      {
        "_defaultOrder": 3,
        "_isFastLaunch": false,
        "category": "General purpose",
        "gpuNum": 0,
        "hideHardwareSpecs": false,
        "memoryGiB": 32,
        "name": "ml.t3.2xlarge",
        "vcpuNum": 8
      },
      {
        "_defaultOrder": 4,
        "_isFastLaunch": true,
        "category": "General purpose",
        "gpuNum": 0,
        "hideHardwareSpecs": false,
        "memoryGiB": 8,
        "name": "ml.m5.large",
        "vcpuNum": 2
      },
      {
        "_defaultOrder": 5,
        "_isFastLaunch": false,
        "category": "General purpose",
        "gpuNum": 0,
        "hideHardwareSpecs": false,
        "memoryGiB": 16,
        "name": "ml.m5.xlarge",
        "vcpuNum": 4
      },
      {
        "_defaultOrder": 6,
        "_isFastLaunch": false,
        "category": "General purpose",
        "gpuNum": 0,
        "hideHardwareSpecs": false,
        "memoryGiB": 32,
        "name": "ml.m5.2xlarge",
        "vcpuNum": 8
      },
      {
        "_defaultOrder": 7,
        "_isFastLaunch": false,
        "category": "General purpose",
        "gpuNum": 0,
        "hideHardwareSpecs": false,
        "memoryGiB": 64,
        "name": "ml.m5.4xlarge",
        "vcpuNum": 16
      },
      {
        "_defaultOrder": 8,
        "_isFastLaunch": false,
        "category": "General purpose",
        "gpuNum": 0,
        "hideHardwareSpecs": false,
        "memoryGiB": 128,
        "name": "ml.m5.8xlarge",
        "vcpuNum": 32
      },
      {
        "_defaultOrder": 9,
        "_isFastLaunch": false,
        "category": "General purpose",
        "gpuNum": 0,
        "hideHardwareSpecs": false,
        "memoryGiB": 192,
        "name": "ml.m5.12xlarge",
        "vcpuNum": 48
      },
      {
        "_defaultOrder": 10,
        "_isFastLaunch": false,
        "category": "General purpose",
        "gpuNum": 0,
        "hideHardwareSpecs": false,
        "memoryGiB": 256,
        "name": "ml.m5.16xlarge",
        "vcpuNum": 64
      },
      {
        "_defaultOrder": 11,
        "_isFastLaunch": false,
        "category": "General purpose",
        "gpuNum": 0,
        "hideHardwareSpecs": false,
        "memoryGiB": 384,
        "name": "ml.m5.24xlarge",
        "vcpuNum": 96
      },
      {
        "_defaultOrder": 12,
        "_isFastLaunch": false,
        "category": "General purpose",
        "gpuNum": 0,
        "hideHardwareSpecs": false,
        "memoryGiB": 8,
        "name": "ml.m5d.large",
        "vcpuNum": 2
      },
      {
        "_defaultOrder": 13,
        "_isFastLaunch": false,
        "category": "General purpose",
        "gpuNum": 0,
        "hideHardwareSpecs": false,
        "memoryGiB": 16,
        "name": "ml.m5d.xlarge",
        "vcpuNum": 4
      },
      {
        "_defaultOrder": 14,
        "_isFastLaunch": false,
        "category": "General purpose",
        "gpuNum": 0,
        "hideHardwareSpecs": false,
        "memoryGiB": 32,
        "name": "ml.m5d.2xlarge",
        "vcpuNum": 8
      },
      {
        "_defaultOrder": 15,
        "_isFastLaunch": false,
        "category": "General purpose",
        "gpuNum": 0,
        "hideHardwareSpecs": false,
        "memoryGiB": 64,
        "name": "ml.m5d.4xlarge",
        "vcpuNum": 16
      },
      {
        "_defaultOrder": 16,
        "_isFastLaunch": false,
        "category": "General purpose",
        "gpuNum": 0,
        "hideHardwareSpecs": false,
        "memoryGiB": 128,
        "name": "ml.m5d.8xlarge",
        "vcpuNum": 32
      },
      {
        "_defaultOrder": 17,
        "_isFastLaunch": false,
        "category": "General purpose",
        "gpuNum": 0,
        "hideHardwareSpecs": false,
        "memoryGiB": 192,
        "name": "ml.m5d.12xlarge",
        "vcpuNum": 48
      },
      {
        "_defaultOrder": 18,
        "_isFastLaunch": false,
        "category": "General purpose",
        "gpuNum": 0,
        "hideHardwareSpecs": false,
        "memoryGiB": 256,
        "name": "ml.m5d.16xlarge",
        "vcpuNum": 64
      },
      {
        "_defaultOrder": 19,
        "_isFastLaunch": false,
        "category": "General purpose",
        "gpuNum": 0,
        "hideHardwareSpecs": false,
        "memoryGiB": 384,
        "name": "ml.m5d.24xlarge",
        "vcpuNum": 96
      },
      {
        "_defaultOrder": 20,
        "_isFastLaunch": false,
        "category": "General purpose",
        "gpuNum": 0,
        "hideHardwareSpecs": true,
        "memoryGiB": 0,
        "name": "ml.geospatial.interactive",
        "supportedImageNames": [
          "sagemaker-geospatial-v1-0"
        ],
        "vcpuNum": 0
      },
      {
        "_defaultOrder": 21,
        "_isFastLaunch": true,
        "category": "Compute optimized",
        "gpuNum": 0,
        "hideHardwareSpecs": false,
        "memoryGiB": 4,
        "name": "ml.c5.large",
        "vcpuNum": 2
      },
      {
        "_defaultOrder": 22,
        "_isFastLaunch": false,
        "category": "Compute optimized",
        "gpuNum": 0,
        "hideHardwareSpecs": false,
        "memoryGiB": 8,
        "name": "ml.c5.xlarge",
        "vcpuNum": 4
      },
      {
        "_defaultOrder": 23,
        "_isFastLaunch": false,
        "category": "Compute optimized",
        "gpuNum": 0,
        "hideHardwareSpecs": false,
        "memoryGiB": 16,
        "name": "ml.c5.2xlarge",
        "vcpuNum": 8
      },
      {
        "_defaultOrder": 24,
        "_isFastLaunch": false,
        "category": "Compute optimized",
        "gpuNum": 0,
        "hideHardwareSpecs": false,
        "memoryGiB": 32,
        "name": "ml.c5.4xlarge",
        "vcpuNum": 16
      },
      {
        "_defaultOrder": 25,
        "_isFastLaunch": false,
        "category": "Compute optimized",
        "gpuNum": 0,
        "hideHardwareSpecs": false,
        "memoryGiB": 72,
        "name": "ml.c5.9xlarge",
        "vcpuNum": 36
      },
      {
        "_defaultOrder": 26,
        "_isFastLaunch": false,
        "category": "Compute optimized",
        "gpuNum": 0,
        "hideHardwareSpecs": false,
        "memoryGiB": 96,
        "name": "ml.c5.12xlarge",
        "vcpuNum": 48
      },
      {
        "_defaultOrder": 27,
        "_isFastLaunch": false,
        "category": "Compute optimized",
        "gpuNum": 0,
        "hideHardwareSpecs": false,
        "memoryGiB": 144,
        "name": "ml.c5.18xlarge",
        "vcpuNum": 72
      },
      {
        "_defaultOrder": 28,
        "_isFastLaunch": false,
        "category": "Compute optimized",
        "gpuNum": 0,
        "hideHardwareSpecs": false,
        "memoryGiB": 192,
        "name": "ml.c5.24xlarge",
        "vcpuNum": 96
      },
      {
        "_defaultOrder": 29,
        "_isFastLaunch": true,
        "category": "Accelerated computing",
        "gpuNum": 1,
        "hideHardwareSpecs": false,
        "memoryGiB": 16,
        "name": "ml.g4dn.xlarge",
        "vcpuNum": 4
      },
      {
        "_defaultOrder": 30,
        "_isFastLaunch": false,
        "category": "Accelerated computing",
        "gpuNum": 1,
        "hideHardwareSpecs": false,
        "memoryGiB": 32,
        "name": "ml.g4dn.2xlarge",
        "vcpuNum": 8
      },
      {
        "_defaultOrder": 31,
        "_isFastLaunch": false,
        "category": "Accelerated computing",
        "gpuNum": 1,
        "hideHardwareSpecs": false,
        "memoryGiB": 64,
        "name": "ml.g4dn.4xlarge",
        "vcpuNum": 16
      },
      {
        "_defaultOrder": 32,
        "_isFastLaunch": false,
        "category": "Accelerated computing",
        "gpuNum": 1,
        "hideHardwareSpecs": false,
        "memoryGiB": 128,
        "name": "ml.g4dn.8xlarge",
        "vcpuNum": 32
      },
      {
        "_defaultOrder": 33,
        "_isFastLaunch": false,
        "category": "Accelerated computing",
        "gpuNum": 4,
        "hideHardwareSpecs": false,
        "memoryGiB": 192,
        "name": "ml.g4dn.12xlarge",
        "vcpuNum": 48
      },
      {
        "_defaultOrder": 34,
        "_isFastLaunch": false,
        "category": "Accelerated computing",
        "gpuNum": 1,
        "hideHardwareSpecs": false,
        "memoryGiB": 256,
        "name": "ml.g4dn.16xlarge",
        "vcpuNum": 64
      },
      {
        "_defaultOrder": 35,
        "_isFastLaunch": false,
        "category": "Accelerated computing",
        "gpuNum": 1,
        "hideHardwareSpecs": false,
        "memoryGiB": 61,
        "name": "ml.p3.2xlarge",
        "vcpuNum": 8
      },
      {
        "_defaultOrder": 36,
        "_isFastLaunch": false,
        "category": "Accelerated computing",
        "gpuNum": 4,
        "hideHardwareSpecs": false,
        "memoryGiB": 244,
        "name": "ml.p3.8xlarge",
        "vcpuNum": 32
      },
      {
        "_defaultOrder": 37,
        "_isFastLaunch": false,
        "category": "Accelerated computing",
        "gpuNum": 8,
        "hideHardwareSpecs": false,
        "memoryGiB": 488,
        "name": "ml.p3.16xlarge",
        "vcpuNum": 64
      },
      {
        "_defaultOrder": 38,
        "_isFastLaunch": false,
        "category": "Accelerated computing",
        "gpuNum": 8,
        "hideHardwareSpecs": false,
        "memoryGiB": 768,
        "name": "ml.p3dn.24xlarge",
        "vcpuNum": 96
      },
      {
        "_defaultOrder": 39,
        "_isFastLaunch": false,
        "category": "Memory Optimized",
        "gpuNum": 0,
        "hideHardwareSpecs": false,
        "memoryGiB": 16,
        "name": "ml.r5.large",
        "vcpuNum": 2
      },
      {
        "_defaultOrder": 40,
        "_isFastLaunch": false,
        "category": "Memory Optimized",
        "gpuNum": 0,
        "hideHardwareSpecs": false,
        "memoryGiB": 32,
        "name": "ml.r5.xlarge",
        "vcpuNum": 4
      },
      {
        "_defaultOrder": 41,
        "_isFastLaunch": false,
        "category": "Memory Optimized",
        "gpuNum": 0,
        "hideHardwareSpecs": false,
        "memoryGiB": 64,
        "name": "ml.r5.2xlarge",
        "vcpuNum": 8
      },
      {
        "_defaultOrder": 42,
        "_isFastLaunch": false,
        "category": "Memory Optimized",
        "gpuNum": 0,
        "hideHardwareSpecs": false,
        "memoryGiB": 128,
        "name": "ml.r5.4xlarge",
        "vcpuNum": 16
      },
      {
        "_defaultOrder": 43,
        "_isFastLaunch": false,
        "category": "Memory Optimized",
        "gpuNum": 0,
        "hideHardwareSpecs": false,
        "memoryGiB": 256,
        "name": "ml.r5.8xlarge",
        "vcpuNum": 32
      },
      {
        "_defaultOrder": 44,
        "_isFastLaunch": false,
        "category": "Memory Optimized",
        "gpuNum": 0,
        "hideHardwareSpecs": false,
        "memoryGiB": 384,
        "name": "ml.r5.12xlarge",
        "vcpuNum": 48
      },
      {
        "_defaultOrder": 45,
        "_isFastLaunch": false,
        "category": "Memory Optimized",
        "gpuNum": 0,
        "hideHardwareSpecs": false,
        "memoryGiB": 512,
        "name": "ml.r5.16xlarge",
        "vcpuNum": 64
      },
      {
        "_defaultOrder": 46,
        "_isFastLaunch": false,
        "category": "Memory Optimized",
        "gpuNum": 0,
        "hideHardwareSpecs": false,
        "memoryGiB": 768,
        "name": "ml.r5.24xlarge",
        "vcpuNum": 96
      },
      {
        "_defaultOrder": 47,
        "_isFastLaunch": false,
        "category": "Accelerated computing",
        "gpuNum": 1,
        "hideHardwareSpecs": false,
        "memoryGiB": 16,
        "name": "ml.g5.xlarge",
        "vcpuNum": 4
      },
      {
        "_defaultOrder": 48,
        "_isFastLaunch": false,
        "category": "Accelerated computing",
        "gpuNum": 1,
        "hideHardwareSpecs": false,
        "memoryGiB": 32,
        "name": "ml.g5.2xlarge",
        "vcpuNum": 8
      },
      {
        "_defaultOrder": 49,
        "_isFastLaunch": false,
        "category": "Accelerated computing",
        "gpuNum": 1,
        "hideHardwareSpecs": false,
        "memoryGiB": 64,
        "name": "ml.g5.4xlarge",
        "vcpuNum": 16
      },
      {
        "_defaultOrder": 50,
        "_isFastLaunch": false,
        "category": "Accelerated computing",
        "gpuNum": 1,
        "hideHardwareSpecs": false,
        "memoryGiB": 128,
        "name": "ml.g5.8xlarge",
        "vcpuNum": 32
      },
      {
        "_defaultOrder": 51,
        "_isFastLaunch": false,
        "category": "Accelerated computing",
        "gpuNum": 1,
        "hideHardwareSpecs": false,
        "memoryGiB": 256,
        "name": "ml.g5.16xlarge",
        "vcpuNum": 64
      },
      {
        "_defaultOrder": 52,
        "_isFastLaunch": false,
        "category": "Accelerated computing",
        "gpuNum": 4,
        "hideHardwareSpecs": false,
        "memoryGiB": 192,
        "name": "ml.g5.12xlarge",
        "vcpuNum": 48
      },
      {
        "_defaultOrder": 53,
        "_isFastLaunch": false,
        "category": "Accelerated computing",
        "gpuNum": 4,
        "hideHardwareSpecs": false,
        "memoryGiB": 384,
        "name": "ml.g5.24xlarge",
        "vcpuNum": 96
      },
      {
        "_defaultOrder": 54,
        "_isFastLaunch": false,
        "category": "Accelerated computing",
        "gpuNum": 8,
        "hideHardwareSpecs": false,
        "memoryGiB": 768,
        "name": "ml.g5.48xlarge",
        "vcpuNum": 192
      },
      {
        "_defaultOrder": 55,
        "_isFastLaunch": false,
        "category": "Accelerated computing",
        "gpuNum": 8,
        "hideHardwareSpecs": false,
        "memoryGiB": 1152,
        "name": "ml.p4d.24xlarge",
        "vcpuNum": 96
      },
      {
        "_defaultOrder": 56,
        "_isFastLaunch": false,
        "category": "Accelerated computing",
        "gpuNum": 8,
        "hideHardwareSpecs": false,
        "memoryGiB": 1152,
        "name": "ml.p4de.24xlarge",
        "vcpuNum": 96
      }
    ],
    "instance_type": "ml.g4dn.xlarge",
    "kernelspec": {
      "display_name": "Python 3 (PyTorch 1.13 Python 3.9 GPU Optimized)",
      "language": "python",
      "name": "python3__SAGEMAKER_INTERNAL__arn:aws:sagemaker:us-east-1:081325390199:image/pytorch-1.13-gpu-py39"
    },
    "language_info": {
      "codemirror_mode": {
        "name": "ipython",
        "version": 3
      },
      "file_extension": ".py",
      "mimetype": "text/x-python",
      "name": "python",
      "nbconvert_exporter": "python",
      "pygments_lexer": "ipython3",
      "version": "3.9.16"
    },
    "colab": {
      "provenance": []
    }
  },
  "nbformat": 4,
  "nbformat_minor": 5
}